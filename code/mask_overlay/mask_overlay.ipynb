{
 "cells": [
  {
   "cell_type": "code",
   "execution_count": null,
   "id": "0210dbe5-fbaf-4da6-bb41-72777b3c8a11",
   "metadata": {},
   "outputs": [],
   "source": [
    "import sys\n",
    "!{sys.executable} -m pip install \"napari[all]\" steinbock opencv-contrib-python-headless"
   ]
  },
  {
   "cell_type": "code",
   "execution_count": 1,
   "id": "1720520e-d214-4274-8096-4c2ed028fe6d",
   "metadata": {},
   "outputs": [],
   "source": [
    "import cv2\n",
    "import napari\n",
    "import numpy as np\n",
    "\n",
    "from matplotlib.colors import to_rgba\n",
    "from steinbock.io import read_panel, read_image, read_mask"
   ]
  },
  {
   "cell_type": "code",
   "execution_count": 2,
   "id": "d002e5c1-3522-4dcc-8583-689f4fe2b39a",
   "metadata": {},
   "outputs": [],
   "source": [
    "outline_color = \"green\"\n",
    "\n",
    "# load data\n",
    "panel = read_panel(\"panel.csv\")\n",
    "img = read_image(\"img/G07.tiff\")\n",
    "mask = read_mask(\"masks/G07.tiff\")\n",
    "\n",
    "# cell outlines\n",
    "mask_binary = np.asarray(mask != 0, dtype=np.uint8)\n",
    "contours, hierarchy = cv2.findContours(mask_binary, cv2.RETR_EXTERNAL, cv2.CHAIN_APPROX_SIMPLE)\n",
    "outline_color_rgba = tuple([int(x * 255) for x in to_rgba(outline_color)])\n",
    "outline = np.zeros((mask.shape[0], mask.shape[1], 4), dtype=img.dtype)\n",
    "outline = cv2.drawContours(outline, contours, -1, outline_color_rgba)\n",
    "\n",
    "# open napari\n",
    "viewer = napari.Viewer()\n",
    "viewer.add_image(img[::-1], channel_axis=0, colormap=\"gray\", name=panel.name[::-1], visible=False)\n",
    "viewer.add_image(outline, name=\"Cell outline\", visible=False)\n",
    "viewer.add_labels(mask, name=\"Cell mask\", visible=False)\n",
    "viewer.show()"
   ]
  }
 ],
 "metadata": {
  "kernelspec": {
   "display_name": "Python 3 (ipykernel)",
   "language": "python",
   "name": "python3"
  },
  "language_info": {
   "codemirror_mode": {
    "name": "ipython",
    "version": 3
   },
   "file_extension": ".py",
   "mimetype": "text/x-python",
   "name": "python",
   "nbconvert_exporter": "python",
   "pygments_lexer": "ipython3",
   "version": "3.9.7"
  }
 },
 "nbformat": 4,
 "nbformat_minor": 5
}
